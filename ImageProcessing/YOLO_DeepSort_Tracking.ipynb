{
 "cells": [
  {
   "cell_type": "code",
   "execution_count": null,
   "id": "12eb777d-712e-4a8f-ae03-91d9d8151c05",
   "metadata": {},
   "outputs": [],
   "source": [
    "import cv2\n",
    "import numpy as np\n",
    "from ultralytics import YOLO\n",
    "from collections import deque\n",
    "from deep_sort_realtime.deepsort_tracker import DeepSort"
   ]
  },
  {
   "cell_type": "code",
   "execution_count": null,
   "id": "274b2e36-aa70-4f7c-90e2-800306d1e470",
   "metadata": {},
   "outputs": [],
   "source": [
    "def load_yolo(model_path=\"yolov8n.pt\"):\n",
    "    return YOLO(model_path)  # Load YOLOv8 Nano (fastest for real-time)"
   ]
  },
  {
   "cell_type": "code",
   "execution_count": null,
   "id": "0c753c83-79c9-4dcc-bdab-be055c69e21e",
   "metadata": {},
   "outputs": [],
   "source": [
    "def init_tracker():\n",
    "    return DeepSort(max_age=30, n_init=3, nms_max_overlap=1.0)"
   ]
  },
  {
   "cell_type": "code",
   "execution_count": null,
   "id": "24cb37e5-850e-4a21-a122-7bd66ca77a4c",
   "metadata": {},
   "outputs": [],
   "source": [
    "def detect_person(frame, model, conf_threshold=0.5):\n",
    "    results = model(frame)[0]  # Get first batch result\n",
    "    detections = []\n",
    "\n",
    "    for box in results.boxes.data:\n",
    "        x1, y1, x2, y2, conf, class_id = box.tolist()\n",
    "        if int(class_id) == 0 and conf > conf_threshold:  # Class 0 is 'person'\n",
    "            detections.append(([x1, y1, x2, y2], conf, class_id))\n",
    "\n",
    "    return detections"
   ]
  },
  {
   "cell_type": "code",
   "execution_count": null,
   "id": "e2aeff3c-21d6-4854-baf2-032cd7602b62",
   "metadata": {},
   "outputs": [],
   "source": [
    "# Compute Left-Right Score based on the person’s horizontal position\n",
    "def compute_lr_score(cx, frame_width):\n",
    "    lr_score = (2 * (cx - frame_width / 2)) / frame_width  # Normalize between -1 and 1\n",
    "    return round(lr_score, 3)"
   ]
  },
  {
   "cell_type": "code",
   "execution_count": null,
   "id": "456a36d4-8819-4486-8dc1-683f0e51c2e0",
   "metadata": {},
   "outputs": [],
   "source": [
    "def compute_movement_score(area_history, N=10):\n",
    "    if len(area_history) < 2:\n",
    "        return 0.5  # Default to stationary\n",
    "\n",
    "    delta_areas = [area_history[i] - area_history[i - 1] for i in range(1, len(area_history))]\n",
    "    avg_delta = sum(delta_areas) / len(delta_areas)  # Average rate of change\n",
    "\n",
    "    # Normalize using sigmoid to keep the value between 0 and 1\n",
    "    sigmoid = 1 / (1 + np.exp(-avg_delta / max(area_history)))  \n",
    "    return round(1 - sigmoid, 3)  # Flip it (1 = moving away, 0 = moving closer)"
   ]
  },
  {
   "cell_type": "code",
   "execution_count": null,
   "id": "5bb5683a-24b5-43bf-b1a4-817ebf10c053",
   "metadata": {},
   "outputs": [],
   "source": [
    "def track_first_person(frame, tracker, first_person_id, detections):\n",
    "    tracked_objects = tracker.update_tracks(detections, frame=frame)\n",
    "    new_id, curr_area, lr_score = None, None, None\n",
    "\n",
    "    h, w, _ = frame.shape  # Get image width for LR score computation\n",
    "\n",
    "    for track in tracked_objects:\n",
    "        if not track.is_confirmed():\n",
    "            continue\n",
    "\n",
    "        track_id = track.track_id\n",
    "        ltrb = track.to_ltrb()\n",
    "        x1, y1, x2, y2 = map(int, ltrb)\n",
    "\n",
    "        # Assign the first detected ID if not set\n",
    "        if first_person_id is None:\n",
    "            first_person_id = track_id\n",
    "\n",
    "        # Track only the first detected person\n",
    "        if track_id == first_person_id:\n",
    "            new_id = first_person_id\n",
    "            curr_area = (x2 - x1) * (y2 - y1)  # Compute bounding box area\n",
    "\n",
    "            # Compute horizontal position score\n",
    "            cx = (x1 + x2) // 2  # Calculate centroid x-coordinate\n",
    "            lr_score = compute_lr_score(cx, w)\n",
    "\n",
    "            # Draw bounding box\n",
    "            cv2.rectangle(frame, (x1, y1), (x2, y2), (0, 255, 0), 2)\n",
    "            cv2.putText(frame, f\"Tracking ID {track_id}\", (x1, y1 - 10),\n",
    "                        cv2.FONT_HERSHEY_SIMPLEX, 0.5, (255, 0, 0), 2)\n",
    "\n",
    "    return frame, new_id, curr_area, lr_score"
   ]
  },
  {
   "cell_type": "code",
   "execution_count": null,
   "id": "c5a2d054-7a21-44a7-8ecb-e6702ca8a393",
   "metadata": {},
   "outputs": [],
   "source": [
    "# Main function to process video\n",
    "def run_camera():\n",
    "    model = load_yolo()\n",
    "    tracker = init_tracker()\n",
    "    cap = cv2.VideoCapture(0)  # Use 0 for laptop webcam\n",
    "\n",
    "    first_person_id = None\n",
    "    area_history = deque(maxlen=5)  # Store last 5 frames' bounding box areas\n",
    "\n",
    "    while cap.isOpened():\n",
    "        ret, frame = cap.read()\n",
    "        if not ret:\n",
    "            break\n",
    "\n",
    "        # Step 1: Detect people\n",
    "        detections = detect_person(frame, model)\n",
    "\n",
    "        # Step 2: Track only the first detected person\n",
    "        frame, first_person_id, curr_area, lr_score = track_first_person(frame, tracker, first_person_id, detections)\n",
    "\n",
    "        # Step 3: Compute movement score\n",
    "        if curr_area:\n",
    "            area_history.append(curr_area)\n",
    "            movement_score = compute_movement_score(area_history)\n",
    "\n",
    "            # Display movement and LR scores\n",
    "            cv2.putText(frame, f\"Movement Score: {movement_score}\", (10, 30),\n",
    "                        cv2.FONT_HERSHEY_SIMPLEX, 0.7, (0, 0, 255), 2)\n",
    "            \n",
    "            if lr_score is not None:\n",
    "                cv2.putText(frame, f\"LR Score: {lr_score}\", (10, 60),\n",
    "                            cv2.FONT_HERSHEY_SIMPLEX, 0.7, (255, 165, 0), 2)\n",
    "\n",
    "        # Display frame\n",
    "        cv2.imshow(\"Person Tracking with Movement & LR Score\", frame)\n",
    "        if cv2.waitKey(1) & 0xFF == ord(\"q\"):\n",
    "            break\n",
    "\n",
    "    cap.release()\n",
    "    cv2.destroyAllWindows()"
   ]
  },
  {
   "cell_type": "code",
   "execution_count": null,
   "id": "af710879-a9b7-4049-8eaf-e3191bd1fde9",
   "metadata": {},
   "outputs": [],
   "source": [
    "run_camera()"
   ]
  },
  {
   "cell_type": "code",
   "execution_count": null,
   "id": "e7cd6769-a998-41ae-b7d8-a2c07d10c7f9",
   "metadata": {},
   "outputs": [],
   "source": []
  }
 ],
 "metadata": {
  "kernelspec": {
   "display_name": "llms",
   "language": "python",
   "name": "llms"
  },
  "language_info": {
   "codemirror_mode": {
    "name": "ipython",
    "version": 3
   },
   "file_extension": ".py",
   "mimetype": "text/x-python",
   "name": "python",
   "nbconvert_exporter": "python",
   "pygments_lexer": "ipython3",
   "version": "3.10.14"
  }
 },
 "nbformat": 4,
 "nbformat_minor": 5
}

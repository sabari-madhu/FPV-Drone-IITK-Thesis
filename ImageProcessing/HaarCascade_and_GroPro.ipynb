{
 "cells": [
  {
   "cell_type": "markdown",
   "id": "f2ec3c8c-fa5f-4984-83c0-bc038eaf473b",
   "metadata": {},
   "source": [
    "### Import all the modules and dependencies"
   ]
  },
  {
   "cell_type": "code",
   "execution_count": null,
   "id": "14373bb9-b1ff-48b2-a9f7-8cd3a7a3973d",
   "metadata": {},
   "outputs": [],
   "source": [
    "import cv2\n",
    "import time \n",
    "import numpy as np\n",
    "from matplotlib import pyplot as plt\n",
    "from IPython.display import clear_output"
   ]
  },
  {
   "cell_type": "markdown",
   "id": "f27da68c-39c5-4f54-8ccf-d28f45b1b057",
   "metadata": {},
   "source": [
    "### All the functions for the different components"
   ]
  },
  {
   "cell_type": "markdown",
   "id": "946540c9-e6b7-4fb9-ae0c-e4f025572b4c",
   "metadata": {},
   "source": [
    "#### Fish Eye Removal"
   ]
  },
  {
   "cell_type": "code",
   "execution_count": null,
   "id": "db61299b-587c-42be-b10d-0b1ed3904c9f",
   "metadata": {},
   "outputs": [],
   "source": [
    "def process_per_frame_fisheye(frame, width, height):\n",
    "    \"\"\"\n",
    "    Correct fisheye distortion in a frame using given calibration parameters.\n",
    "    Args:\n",
    "        frame: Input distorted frame.\n",
    "        width, height: Dimensions of the frame.\n",
    "    Returns:\n",
    "        corrected_frame: Undistorted frame.\n",
    "    \"\"\"\n",
    "    # Normalized intrinsic parameters\n",
    "    cx, cy = 0.5, 0.5  # Center coordinates (normalized)\n",
    "    # k1, k2 = -0.227, -0.022  # Radial distortion coefficients\n",
    "    k1, k2 = -0.230, -0.020  # Experiment with small adjustments\n",
    "\n",
    "\n",
    "    # Camera intrinsic matrix\n",
    "    cx_px = cx * width\n",
    "    cy_px = cy * height\n",
    "    K = np.array([\n",
    "        [width, 0, cx_px],\n",
    "        [0, height, cy_px],\n",
    "        [0, 0, 1]\n",
    "    ], dtype=np.float32)\n",
    "\n",
    "    # Distortion coefficients\n",
    "    D = np.array([k1, k2, 0.09, 0], dtype=np.float32)\n",
    "\n",
    "    # Undistortion map for fisheye\n",
    "    map1, map2 = cv2.fisheye.initUndistortRectifyMap(\n",
    "        K, D, np.eye(3), K, (width, height), cv2.CV_16SC2\n",
    "    )\n",
    "\n",
    "    # Apply remapping\n",
    "    corrected_frame = cv2.remap(frame, map1, map2, interpolation=cv2.INTER_LINEAR)\n",
    "    return corrected_frame"
   ]
  },
  {
   "cell_type": "markdown",
   "id": "b9249b19-b136-4975-889d-4ee5e3124ed3",
   "metadata": {},
   "source": [
    "#### Split into sections"
   ]
  },
  {
   "cell_type": "code",
   "execution_count": null,
   "id": "34032ed9-535f-4c95-9c1e-03c242f536f3",
   "metadata": {},
   "outputs": [],
   "source": [
    "def split_image_into_thirds(img):\n",
    "        # Get image dimensions\n",
    "        height, width = img.shape[:2]\n",
    "        \n",
    "        # Calculate the width of each section\n",
    "        section_width = width // 3\n",
    "        \n",
    "        # Split the image into three sections\n",
    "        left_section = img[:, :section_width]\n",
    "        middle_section = img[:, section_width:section_width*2]\n",
    "        right_section = img[:, section_width*2:]\n",
    "        \n",
    "        return left_section, middle_section, right_section"
   ]
  },
  {
   "cell_type": "markdown",
   "id": "7c7b9c6a-7974-442a-897c-fe50865455cc",
   "metadata": {},
   "source": [
    "#### Head Detection"
   ]
  },
  {
   "cell_type": "code",
   "execution_count": null,
   "id": "84476f52-b409-4843-90e5-5289ed786279",
   "metadata": {},
   "outputs": [],
   "source": [
    "     \n",
    "\n",
    "def detect_head(img):\n",
    "    try:\n",
    "        plt.imshow(img)\n",
    "        gray = cv2.cvtColor(img, cv2.COLOR_BGR2GRAY)\n",
    "        \n",
    "        # Detect faces (both frontal and profile)\n",
    "        frontal_faces = face_cascade.detectMultiScale(gray, scaleFactor=1.1, minNeighbors=5, minSize=(30, 30))\n",
    "        profile_faces = profile_cascade.detectMultiScale(gray, scaleFactor=1.1, minNeighbors=5, minSize=(30, 30))\n",
    "        \n",
    "        # Combine detections\n",
    "        all_detections = list(frontal_faces) + list(profile_faces)\n",
    "        \n",
    "        return len(all_detections) > 0, len(all_detections)\n",
    "        \n",
    "    except Exception as e:\n",
    "        print(f\"Error processing image: {str(e)}\")\n",
    "        return False, 0, None"
   ]
  },
  {
   "cell_type": "code",
   "execution_count": null,
   "id": "6ede4614-3f59-4884-8b90-09d4743f96c7",
   "metadata": {},
   "outputs": [],
   "source": [
    "face_cascade = cv2.CascadeClassifier(cv2.data.haarcascades + 'haarcascade_frontalface_default.xml')\n",
    "profile_cascade = cv2.CascadeClassifier(cv2.data.haarcascades + 'haarcascade_profileface.xml')   \n",
    "\n",
    "def detect_head(img):\n",
    "    try:\n",
    "        gray = cv2.cvtColor(img, cv2.COLOR_BGR2GRAY)\n",
    "        \n",
    "        # Detect faces (both frontal and profile)\n",
    "        frontal_faces = face_cascade.detectMultiScale(gray, scaleFactor=1.1, minNeighbors=5, minSize=(30, 30))\n",
    "        profile_faces = profile_cascade.detectMultiScale(gray, scaleFactor=1.1, minNeighbors=5, minSize=(30, 30))\n",
    "        \n",
    "        # Combine detections\n",
    "        all_detections = list(frontal_faces) + list(profile_faces)\n",
    "        \n",
    "        # Create copy for visualization\n",
    "        img_with_detections = img.copy()\n",
    "        \n",
    "        # Draw rectangles around detected heads\n",
    "        for (x, y, w, h) in all_detections:\n",
    "            cv2.rectangle(img_with_detections, (x, y), (x+w, y+h), (0, 255, 0), 2)\n",
    "            cv2.putText(img_with_detections, 'Head', (x, y-10), \n",
    "                       cv2.FONT_HERSHEY_SIMPLEX, 0.9, (0, 255, 0), 2)\n",
    "\n",
    "        percent_img = 0.8\n",
    "        _img_with_detections = cv2.resize(img_with_detections, \n",
    "                                          (int(img_with_detections.shape[1]*percent_img), \n",
    "                                           int(img_with_detections.shape[0]*percent_img))\n",
    "                                         )\n",
    "        \n",
    "        # # Create window with specific size\n",
    "        # cv2.namedWindow('Head Detection Result', cv2.WINDOW_NORMAL)\n",
    "        # cv2.resizeWindow('Head Detection Result', 640, 480)\n",
    "        # cv2.imshow('Head Detection Result', _img_with_detections)\n",
    " \n",
    "        # cv2.waitKey(0)\n",
    "        # cv2.destroyAllWindows()\n",
    "        \n",
    "        heads_found = len(all_detections) > 0\n",
    "        num_heads = len(all_detections)\n",
    "        \n",
    "        return heads_found, num_heads, img_with_detections\n",
    "        \n",
    "    except Exception as e:\n",
    "        print(f\"Error processing image: {str(e)}\")\n",
    "        return False, 0, None"
   ]
  },
  {
   "cell_type": "markdown",
   "id": "5a4b109a-9f70-4404-ac1f-c3daafad4261",
   "metadata": {},
   "source": [
    "## Video Processing"
   ]
  },
  {
   "cell_type": "markdown",
   "id": "8232b196-36e5-4e0f-9684-06cab7ce614c",
   "metadata": {},
   "source": [
    "### File Based Processing"
   ]
  },
  {
   "cell_type": "code",
   "execution_count": null,
   "id": "84411bf3-6c19-4ec8-8290-6a597a53a1c7",
   "metadata": {},
   "outputs": [],
   "source": [
    "# Path to your video file\n",
    "video_path = \"./GX010544\"\n",
    "# video_path = \"./GX010542.MP4\""
   ]
  },
  {
   "cell_type": "code",
   "execution_count": null,
   "id": "af3463bd-f43a-429f-bde6-6dd1b30efb64",
   "metadata": {},
   "outputs": [],
   "source": [
    "# Open the video file\n",
    "cap = cv2.VideoCapture(video_path)\n",
    "# # Get video properties\n",
    "width = int(cap.get(cv2.CAP_PROP_FRAME_WIDTH))\n",
    "height = int(cap.get(cv2.CAP_PROP_FRAME_HEIGHT))"
   ]
  },
  {
   "cell_type": "code",
   "execution_count": null,
   "id": "2c3ca030-6878-4185-b917-373a6247420a",
   "metadata": {},
   "outputs": [],
   "source": [
    "while cap.isOpened():\n",
    "    ret, frame = cap.read()\n",
    "    if not ret:\n",
    "        break\n",
    "\n",
    "    \"\"\" For Resizing - viewing purpose \"\"\"\n",
    "    _frame = cv2.resize(frame, (640, 480))\n",
    "    # Create window with specific size\n",
    "    cv2.namedWindow('Video', cv2.WINDOW_NORMAL)\n",
    "    cv2.resizeWindow('Video', 640, 480)\n",
    "    cv2.imshow('Video', _frame)\n",
    "\n",
    "    # Break the loop if 'q' is pressed\n",
    "    if cv2.waitKey(1) & 0xFF == ord('q'):\n",
    "        break\n",
    "\n",
    "# cap.release()\n",
    "cv2.destroyAllWindows()"
   ]
  },
  {
   "cell_type": "code",
   "execution_count": null,
   "id": "8b0ade25-180c-4ef5-868b-356fc037504d",
   "metadata": {},
   "outputs": [],
   "source": [
    "ret, frame = cap.read()\n",
    "if ret:\n",
    "    # Convert the frame from BGR (OpenCV format) to RGB (matplotlib format)\n",
    "    frame_rgb = cv2.cvtColor(frame, cv2.COLOR_BGR2RGB)\n",
    "    plt.imshow(frame_rgb)"
   ]
  },
  {
   "cell_type": "code",
   "execution_count": null,
   "id": "954e1bcd-12a0-4e8e-9d51-cd7cdcb05104",
   "metadata": {},
   "outputs": [],
   "source": [
    "linear_frame = process_per_frame_fisheye(frame_rgb, width, height)\n",
    "plt.imshow(linear_frame)"
   ]
  },
  {
   "cell_type": "code",
   "execution_count": null,
   "id": "e4fc8a3f-de1a-44c7-b9eb-6cd3800983d2",
   "metadata": {},
   "outputs": [],
   "source": [
    "l, m, r = split_image_into_thirds(linear_frame)\n",
    "fig, (ax1, ax2, ax3) = plt.subplots(1, 3, figsize=(15, 5))\n",
    "# Display each section\n",
    "ax1.imshow(l)\n",
    "ax1.set_title('Left Section')\n",
    "ax1.axis('off')\n",
    "\n",
    "ax2.imshow(m)\n",
    "ax2.set_title('Middle Section')\n",
    "ax2.axis('off')\n",
    "\n",
    "ax3.imshow(r)\n",
    "ax3.set_title('Right Section')\n",
    "ax3.axis('off')\n",
    "\n",
    "plt.tight_layout()\n",
    "plt.show()"
   ]
  },
  {
   "cell_type": "code",
   "execution_count": null,
   "id": "08b30b70-efad-47ce-b946-5b8d95a7ba8d",
   "metadata": {},
   "outputs": [],
   "source": [
    "l_bool, l_count, _l = detect_head(l)\n",
    "m_bool, m_count, _m = detect_head(m)\n",
    "r_bool, r_count, _r = detect_head(r)\n",
    "\n",
    "print(f\"Left: ({l_bool}, {l_count}); Middle: ({m_bool}, {m_count}); Right:({r_bool}, {r_count})\")"
   ]
  },
  {
   "cell_type": "code",
   "execution_count": null,
   "id": "8b5236cd-75f4-4ab2-a175-6bcb0b32af4c",
   "metadata": {},
   "outputs": [],
   "source": [
    "fig, (ax1, ax2, ax3) = plt.subplots(1, 3, figsize=(15, 5))\n",
    "# Display each section\n",
    "ax1.imshow(_l)\n",
    "ax1.set_title('Left Section')\n",
    "ax1.axis('off')\n",
    "\n",
    "ax2.imshow(_m)\n",
    "ax2.set_title('Middle Section')\n",
    "ax2.axis('off')\n",
    "\n",
    "ax3.imshow(_r)\n",
    "ax3.set_title('Right Section')\n",
    "ax3.axis('off')\n",
    "\n",
    "plt.tight_layout()\n",
    "plt.show()"
   ]
  },
  {
   "cell_type": "code",
   "execution_count": null,
   "id": "8a2b8454-dbad-4cb1-937b-2aa0ce420e16",
   "metadata": {},
   "outputs": [],
   "source": [
    "cap.release()"
   ]
  },
  {
   "cell_type": "markdown",
   "id": "b226b7a4-e08e-4c4c-85c3-36ff2ca321c1",
   "metadata": {},
   "source": [
    "### Accessing from GoPro Feed"
   ]
  },
  {
   "cell_type": "code",
   "execution_count": null,
   "id": "a1d996a8-0793-4e31-b39a-67440c763e7a",
   "metadata": {},
   "outputs": [],
   "source": [
    "import cv2\n",
    "from matplotlib import pyplot as plt\n",
    "from goprocam import GoProCamera, constants"
   ]
  },
  {
   "cell_type": "code",
   "execution_count": null,
   "id": "4075175f-c8b8-4e25-a083-ba4c0707be4c",
   "metadata": {},
   "outputs": [],
   "source": [
    "cam_cap = cv2.VideoCapture(\"udp://127.0.0.1:8081\")"
   ]
  },
  {
   "cell_type": "code",
   "execution_count": null,
   "id": "914678dd-a492-45bf-b7a3-c703252556f2",
   "metadata": {},
   "outputs": [],
   "source": [
    "cam_cap.set(cv2.CAP_PROP_BUFFERSIZE, 1)\n",
    "\n",
    "# Additional settings/ to minimize latency\n",
    "cam_cap.set(cv2.CAP_PROP_POS_FRAMES, 0) "
   ]
  },
  {
   "cell_type": "code",
   "execution_count": null,
   "id": "50678a4f-430e-4a16-9f62-b4ec2d12219a",
   "metadata": {},
   "outputs": [],
   "source": [
    "while True:\n",
    "    # Clear buffer\n",
    "    while cam_cap.grab():\n",
    "        pass\n",
    "    \n",
    "    # Read latest frame\n",
    "    ret, frame = cam_cap.read()\n",
    "    if ret:\n",
    "        cv2.imshow('Latest UDP Frame', frame)\n",
    "        if cv2.waitKey(1) & 0xFF == ord('q'):\n",
    "            break"
   ]
  },
  {
   "cell_type": "code",
   "execution_count": null,
   "id": "89940708-6711-47e1-86b0-31129d52bfd1",
   "metadata": {},
   "outputs": [],
   "source": [
    "_, check_frame = cam_cap.read()"
   ]
  },
  {
   "cell_type": "code",
   "execution_count": null,
   "id": "f9340e8e-4360-4d28-b15a-c8faaf50f32b",
   "metadata": {},
   "outputs": [],
   "source": [
    "_"
   ]
  },
  {
   "cell_type": "code",
   "execution_count": null,
   "id": "98f84b23-a620-454e-a192-f0d24c254ed7",
   "metadata": {},
   "outputs": [],
   "source": [
    "plt.imshow(cv2.cvtColor(check_frame, cv2.COLOR_BGR2RGB))"
   ]
  },
  {
   "cell_type": "markdown",
   "id": "02ca0240-76e4-40aa-9bea-b9df65f89e9f",
   "metadata": {},
   "source": [
    "## Accessing GoPro using SDK"
   ]
  },
  {
   "cell_type": "code",
   "execution_count": null,
   "id": "8a32032a-b503-4b08-b707-b5c3d92cd8a7",
   "metadata": {},
   "outputs": [],
   "source": [
    "from goprocam import GoProCamera, constants"
   ]
  },
  {
   "cell_type": "code",
   "execution_count": null,
   "id": "c847afb1-130b-4804-b0f5-c36628993fc3",
   "metadata": {},
   "outputs": [],
   "source": [
    "gopro = GoProCamera.GoPro(constants.gpcontrol)"
   ]
  },
  {
   "cell_type": "code",
   "execution_count": null,
   "id": "cb0672ec-1de9-4bc8-9802-901db77b223e",
   "metadata": {},
   "outputs": [],
   "source": [
    "gopro.overview()"
   ]
  },
  {
   "cell_type": "code",
   "execution_count": null,
   "id": "5482eb97-29fb-480f-b96d-06b285fbb142",
   "metadata": {},
   "outputs": [],
   "source": [
    "gopro.take_photo()"
   ]
  },
  {
   "cell_type": "code",
   "execution_count": null,
   "id": "3441fda5-3a91-4b6c-bc46-729d004c1d20",
   "metadata": {},
   "outputs": [],
   "source": [
    "gopro.downloadLastMedia(custom_filename='check12')"
   ]
  }
 ],
 "metadata": {
  "kernelspec": {
   "display_name": "goprocamera",
   "language": "python",
   "name": "goprocamera"
  },
  "language_info": {
   "codemirror_mode": {
    "name": "ipython",
    "version": 3
   },
   "file_extension": ".py",
   "mimetype": "text/x-python",
   "name": "python",
   "nbconvert_exporter": "python",
   "pygments_lexer": "ipython3",
   "version": "3.8.10"
  }
 },
 "nbformat": 4,
 "nbformat_minor": 5
}
